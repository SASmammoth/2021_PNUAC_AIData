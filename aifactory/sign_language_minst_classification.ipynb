{
  "nbformat": 4,
  "nbformat_minor": 0,
  "metadata": {
    "accelerator": "GPU",
    "colab": {
      "name": "sign_language_minst_classification",
      "provenance": [],
      "collapsed_sections": []
    },
    "kernelspec": {
      "display_name": "Python 3",
      "language": "python",
      "name": "python3"
    },
    "language_info": {
      "codemirror_mode": {
        "name": "ipython",
        "version": 3
      },
      "file_extension": ".py",
      "mimetype": "text/x-python",
      "name": "python",
      "nbconvert_exporter": "python",
      "pygments_lexer": "ipython3",
      "version": "3.6.10"
    }
  },
  "cells": [
    {
      "cell_type": "markdown",
      "metadata": {
        "id": "L3eSKOAdn7Uw"
      },
      "source": [
        "필요한 패키지를 가져옵니다."
      ]
    },
    {
      "cell_type": "markdown",
      "metadata": {
        "id": "7sC-LwqvtM1q"
      },
      "source": [
        "알파벳 수화에 대해 배워봅시다. 사전 지식이 없다고 가정할 때, 사람은 어떻게 배우는 지, 그리고 학습한 것을 어떻게 평가할 것인지도 알아봅니다. "
      ]
    },
    {
      "cell_type": "code",
      "metadata": {
        "id": "-XAyceMYvow8"
      },
      "source": [
        "import numpy as np\n",
        "import matplotlib.pyplot as plt\n",
        "from PIL import Image\n",
        "\n",
        "from tensorflow.keras.models import Sequential, load_model\n",
        "from tensorflow.keras.layers import Dense, Conv2D, MaxPooling2D, Flatten\n",
        "from tensorflow.keras.callbacks import ModelCheckpoint\n",
        "from tensorflow.keras.utils import plot_model, to_categorical\n",
        "from tensorflow.keras.datasets import fashion_mnist"
      ],
      "execution_count": 1,
      "outputs": []
    },
    {
      "cell_type": "markdown",
      "metadata": {
        "id": "hRfuOMk0n7Uw"
      },
      "source": [
        "먼저 알파벳 수화 이미지 데이터셋을 아래 페이지에서 다운로드 받습니다. \n",
        "\n",
        "http://aifactory.space/aifactory/taskData/detail.do?task.taskId=T002057\n",
        "\n",
        "그 다음 다운로드 받은 파일을 구글 코랩 서버에 업로드한 뒤 불러옵니다."
      ]
    },
    {
      "cell_type": "code",
      "metadata": {
        "colab": {
          "base_uri": "https://localhost:8080/"
        },
        "id": "nKPyUcYouz_8",
        "outputId": "3752e7ac-d80d-40f6-f5c4-022b8d12f320"
      },
      "source": [
        "dataset = np.load('sign_mnist.npz')\n",
        "x_train, y_train = dataset['x_train'], dataset['y_train']\n",
        "x_test, y_test = dataset['x_test'], dataset['y_test']\n",
        "\n",
        "print('x_train shape : ' + str(x_train.shape))\n",
        "print('y_train shape : ' + str(y_train.shape))\n",
        "print('x_test shape : ' + str(x_test.shape))\n",
        "print('y_test shape : ' + str(y_test.shape))"
      ],
      "execution_count": 2,
      "outputs": [
        {
          "output_type": "stream",
          "text": [
            "x_train shape : (27455, 28, 28)\n",
            "y_train shape : (27455,)\n",
            "x_test shape : (7172, 28, 28)\n",
            "y_test shape : (7172,)\n"
          ],
          "name": "stdout"
        }
      ]
    },
    {
      "cell_type": "markdown",
      "metadata": {
        "id": "1MRgyIo7VDTm"
      },
      "source": [
        "테스트할 샘플 하나를 살펴봅니다."
      ]
    },
    {
      "cell_type": "code",
      "metadata": {
        "colab": {
          "base_uri": "https://localhost:8080/",
          "height": 283
        },
        "id": "M5dzhF1mVHpX",
        "outputId": "b18988a8-4f7b-4680-8cfb-c30fa8dbf609"
      },
      "source": [
        "plt.imshow(x_test[0], cmap='gray')"
      ],
      "execution_count": 3,
      "outputs": [
        {
          "output_type": "execute_result",
          "data": {
            "text/plain": [
              "<matplotlib.image.AxesImage at 0x7effd92da210>"
            ]
          },
          "metadata": {
            "tags": []
          },
          "execution_count": 3
        },
        {
          "output_type": "display_data",
          "data": {
            "image/png": "[encoded data removed]",
            "text/plain": [
              "<Figure size 432x288 with 1 Axes>"
            ]
          },
          "metadata": {
            "tags": [],
            "needs_background": "light"
          }
        }
      ]
    },
    {
      "cell_type": "markdown",
      "metadata": {
        "id": "59TzdRYXai74"
      },
      "source": [
        "인공지능 모델이 이 이미지를 입력받았을 때, 해당하는 알파벳을 출력할 수 있도록 만드는 것이 목표입니다. 우리는 y_test 라벨값도 가지고 있어서 바로 확인은 할 수 있으나, 모델 학습 시에는 사용이 되지 않으며, 시험 평가할 때만 사용됩니다."
      ]
    },
    {
      "cell_type": "code",
      "metadata": {
        "id": "1aZYIT4bnFZ2",
        "outputId": "ce668ce4-1023-4c39-e780-dd17dd093f53",
        "colab": {
          "base_uri": "https://localhost:8080/",
          "height": 283
        }
      },
      "source": [
        "plt.imshow(x_train[0], cmap='gray')"
      ],
      "execution_count": 4,
      "outputs": [
        {
          "output_type": "execute_result",
          "data": {
            "text/plain": [
              "<matplotlib.image.AxesImage at 0x7effe0648390>"
            ]
          },
          "metadata": {
            "tags": []
          },
          "execution_count": 4
        },
        {
          "output_type": "display_data",
          "data": {
            "image/png": "[encoded data removed]",
            "text/plain": [
              "<Figure size 432x288 with 1 Axes>"
            ]
          },
          "metadata": {
            "tags": [],
            "needs_background": "light"
          }
        }
      ]
    },
    {
      "cell_type": "code",
      "metadata": {
        "colab": {
          "base_uri": "https://localhost:8080/"
        },
        "id": "pfFSxqevajVW",
        "outputId": "70482688-873e-416e-946a-ee7878503e16"
      },
      "source": [
        "print(y_test[0])"
      ],
      "execution_count": 5,
      "outputs": [
        {
          "output_type": "stream",
          "text": [
            "6\n"
          ],
          "name": "stdout"
        }
      ]
    },
    {
      "cell_type": "markdown",
      "metadata": {
        "id": "GMiJUbcHn7Ux"
      },
      "source": [
        "모델 학습에 용이하도록 다음과 같이 데이터 전처리를 수행합니다.\n",
        "\n",
        "*   데이터 전처리\n",
        "    * 3차원(샘플수, 세로, 가로)를 2차원(샘플수, 벡터수)으로 변경\n",
        "    * 정수를 실수로 변경\n",
        "    * 0 ~ 255 사이의 수치를 0.0 ~ 1.0 사이로 정규화 수행\n",
        "*   라벨 전처리\n",
        "    * 0 ~ 9 라벨에 대한 원핫인코딩 수행 \n",
        "\n"
      ]
    },
    {
      "cell_type": "code",
      "metadata": {
        "id": "-Tq2r8mKB9RC"
      },
      "source": [
        "x_train_in = x_train.reshape(27455, 28, 28, 1).astype('float32') / 255.0\n",
        "x_test_in = x_test.reshape(7172, 28, 28, 1).astype('float32') / 255.0\n",
        "y_train_in = to_categorical(y_train)\n",
        "y_test_in = to_categorical(y_test)"
      ],
      "execution_count": 6,
      "outputs": []
    },
    {
      "cell_type": "code",
      "metadata": {
        "id": "YMFhSIzlpLfs",
        "outputId": "0d9db547-29e4-4864-b697-673da9f10622",
        "colab": {
          "base_uri": "https://localhost:8080/"
        }
      },
      "source": [
        "print(x_train_in[1])"
      ],
      "execution_count": 7,
      "outputs": [
        {
          "output_type": "stream",
          "text": [
            "[[[0.60784316]\n",
            "  [0.6156863 ]\n",
            "  [0.6117647 ]\n",
            "  [0.6117647 ]\n",
            "  [0.6117647 ]\n",
            "  [0.6156863 ]\n",
            "  [0.6117647 ]\n",
            "  [0.61960787]\n",
            "  [0.61960787]\n",
            "  [0.6156863 ]\n",
            "  [0.61960787]\n",
            "  [0.6117647 ]\n",
            "  [0.6039216 ]\n",
            "  [0.6039216 ]\n",
            "  [0.6       ]\n",
            "  [0.59607846]\n",
            "  [0.5921569 ]\n",
            "  [0.58431375]\n",
            "  [0.58431375]\n",
            "  [0.5803922 ]\n",
            "  [0.5764706 ]\n",
            "  [0.57254905]\n",
            "  [0.5647059 ]\n",
            "  [0.5568628 ]\n",
            "  [0.56078434]\n",
            "  [0.5411765 ]\n",
            "  [0.36078432]\n",
            "  [0.42352942]]\n",
            "\n",
            " [[0.61960787]\n",
            "  [0.62352943]\n",
            "  [0.62352943]\n",
            "  [0.62352943]\n",
            "  [0.627451  ]\n",
            "  [0.627451  ]\n",
            "  [0.627451  ]\n",
            "  [0.627451  ]\n",
            "  [0.627451  ]\n",
            "  [0.627451  ]\n",
            "  [0.627451  ]\n",
            "  [0.62352943]\n",
            "  [0.61960787]\n",
            "  [0.6156863 ]\n",
            "  [0.60784316]\n",
            "  [0.6039216 ]\n",
            "  [0.6       ]\n",
            "  [0.59607846]\n",
            "  [0.5921569 ]\n",
            "  [0.5882353 ]\n",
            "  [0.58431375]\n",
            "  [0.58431375]\n",
            "  [0.5764706 ]\n",
            "  [0.5764706 ]\n",
            "  [0.57254905]\n",
            "  [0.5568628 ]\n",
            "  [0.45490196]\n",
            "  [0.56078434]]\n",
            "\n",
            " [[0.6313726 ]\n",
            "  [0.6313726 ]\n",
            "  [0.6313726 ]\n",
            "  [0.6313726 ]\n",
            "  [0.63529414]\n",
            "  [0.6313726 ]\n",
            "  [0.63529414]\n",
            "  [0.63529414]\n",
            "  [0.63529414]\n",
            "  [0.63529414]\n",
            "  [0.6313726 ]\n",
            "  [0.6313726 ]\n",
            "  [0.6313726 ]\n",
            "  [0.627451  ]\n",
            "  [0.62352943]\n",
            "  [0.61960787]\n",
            "  [0.6117647 ]\n",
            "  [0.60784316]\n",
            "  [0.6039216 ]\n",
            "  [0.6       ]\n",
            "  [0.59607846]\n",
            "  [0.59607846]\n",
            "  [0.5921569 ]\n",
            "  [0.5882353 ]\n",
            "  [0.5764706 ]\n",
            "  [0.5764706 ]\n",
            "  [0.49019608]\n",
            "  [0.54901963]]\n",
            "\n",
            " [[0.64705884]\n",
            "  [0.6431373 ]\n",
            "  [0.6431373 ]\n",
            "  [0.64705884]\n",
            "  [0.64705884]\n",
            "  [0.64705884]\n",
            "  [0.64705884]\n",
            "  [0.64705884]\n",
            "  [0.6431373 ]\n",
            "  [0.6431373 ]\n",
            "  [0.6431373 ]\n",
            "  [0.64705884]\n",
            "  [0.6392157 ]\n",
            "  [0.6392157 ]\n",
            "  [0.63529414]\n",
            "  [0.6313726 ]\n",
            "  [0.62352943]\n",
            "  [0.62352943]\n",
            "  [0.61960787]\n",
            "  [0.6117647 ]\n",
            "  [0.6117647 ]\n",
            "  [0.60784316]\n",
            "  [0.59607846]\n",
            "  [0.6       ]\n",
            "  [0.6039216 ]\n",
            "  [0.5921569 ]\n",
            "  [0.4862745 ]\n",
            "  [0.49411765]]\n",
            "\n",
            " [[0.6509804 ]\n",
            "  [0.654902  ]\n",
            "  [0.6509804 ]\n",
            "  [0.654902  ]\n",
            "  [0.654902  ]\n",
            "  [0.6509804 ]\n",
            "  [0.654902  ]\n",
            "  [0.654902  ]\n",
            "  [0.654902  ]\n",
            "  [0.654902  ]\n",
            "  [0.6509804 ]\n",
            "  [0.654902  ]\n",
            "  [0.64705884]\n",
            "  [0.64705884]\n",
            "  [0.6431373 ]\n",
            "  [0.6392157 ]\n",
            "  [0.63529414]\n",
            "  [0.63529414]\n",
            "  [0.6313726 ]\n",
            "  [0.627451  ]\n",
            "  [0.6117647 ]\n",
            "  [0.5921569 ]\n",
            "  [0.6039216 ]\n",
            "  [0.6901961 ]\n",
            "  [0.5686275 ]\n",
            "  [0.47843137]\n",
            "  [0.5647059 ]\n",
            "  [0.39215687]]\n",
            "\n",
            " [[0.65882355]\n",
            "  [0.6627451 ]\n",
            "  [0.65882355]\n",
            "  [0.6627451 ]\n",
            "  [0.6627451 ]\n",
            "  [0.65882355]\n",
            "  [0.6627451 ]\n",
            "  [0.6666667 ]\n",
            "  [0.6666667 ]\n",
            "  [0.6666667 ]\n",
            "  [0.6627451 ]\n",
            "  [0.65882355]\n",
            "  [0.654902  ]\n",
            "  [0.6509804 ]\n",
            "  [0.654902  ]\n",
            "  [0.64705884]\n",
            "  [0.63529414]\n",
            "  [0.62352943]\n",
            "  [0.62352943]\n",
            "  [0.6117647 ]\n",
            "  [0.5921569 ]\n",
            "  [0.64705884]\n",
            "  [0.67058825]\n",
            "  [0.57254905]\n",
            "  [0.36862746]\n",
            "  [0.50980395]\n",
            "  [0.62352943]\n",
            "  [0.43529412]]\n",
            "\n",
            " [[0.67058825]\n",
            "  [0.67058825]\n",
            "  [0.6666667 ]\n",
            "  [0.67058825]\n",
            "  [0.67058825]\n",
            "  [0.67058825]\n",
            "  [0.6745098 ]\n",
            "  [0.67058825]\n",
            "  [0.67058825]\n",
            "  [0.67058825]\n",
            "  [0.6745098 ]\n",
            "  [0.6627451 ]\n",
            "  [0.6627451 ]\n",
            "  [0.6666667 ]\n",
            "  [0.6509804 ]\n",
            "  [0.64705884]\n",
            "  [0.627451  ]\n",
            "  [0.6156863 ]\n",
            "  [0.6666667 ]\n",
            "  [0.69411767]\n",
            "  [0.67058825]\n",
            "  [0.6       ]\n",
            "  [0.4862745 ]\n",
            "  [0.3764706 ]\n",
            "  [0.49019608]\n",
            "  [0.6156863 ]\n",
            "  [0.60784316]\n",
            "  [0.57254905]]\n",
            "\n",
            " [[0.6745098 ]\n",
            "  [0.6745098 ]\n",
            "  [0.6745098 ]\n",
            "  [0.6784314 ]\n",
            "  [0.6784314 ]\n",
            "  [0.6784314 ]\n",
            "  [0.6784314 ]\n",
            "  [0.6784314 ]\n",
            "  [0.6784314 ]\n",
            "  [0.6784314 ]\n",
            "  [0.68235296]\n",
            "  [0.68235296]\n",
            "  [0.67058825]\n",
            "  [0.654902  ]\n",
            "  [0.6627451 ]\n",
            "  [0.6862745 ]\n",
            "  [0.67058825]\n",
            "  [0.6431373 ]\n",
            "  [0.64705884]\n",
            "  [0.6156863 ]\n",
            "  [0.5058824 ]\n",
            "  [0.4392157 ]\n",
            "  [0.4745098 ]\n",
            "  [0.5803922 ]\n",
            "  [0.6431373 ]\n",
            "  [0.61960787]\n",
            "  [0.60784316]\n",
            "  [0.59607846]]\n",
            "\n",
            " [[0.6862745 ]\n",
            "  [0.68235296]\n",
            "  [0.68235296]\n",
            "  [0.68235296]\n",
            "  [0.6862745 ]\n",
            "  [0.68235296]\n",
            "  [0.68235296]\n",
            "  [0.68235296]\n",
            "  [0.68235296]\n",
            "  [0.69411767]\n",
            "  [0.69803923]\n",
            "  [0.68235296]\n",
            "  [0.6666667 ]\n",
            "  [0.69803923]\n",
            "  [0.7137255 ]\n",
            "  [0.67058825]\n",
            "  [0.6039216 ]\n",
            "  [0.49803922]\n",
            "  [0.47058824]\n",
            "  [0.49411765]\n",
            "  [0.5411765 ]\n",
            "  [0.62352943]\n",
            "  [0.65882355]\n",
            "  [0.64705884]\n",
            "  [0.63529414]\n",
            "  [0.6313726 ]\n",
            "  [0.61960787]\n",
            "  [0.6156863 ]]\n",
            "\n",
            " [[0.6901961 ]\n",
            "  [0.6901961 ]\n",
            "  [0.6901961 ]\n",
            "  [0.6901961 ]\n",
            "  [0.69411767]\n",
            "  [0.6901961 ]\n",
            "  [0.6901961 ]\n",
            "  [0.69411767]\n",
            "  [0.69411767]\n",
            "  [0.6862745 ]\n",
            "  [0.6627451 ]\n",
            "  [0.6666667 ]\n",
            "  [0.69803923]\n",
            "  [0.6627451 ]\n",
            "  [0.61960787]\n",
            "  [0.6392157 ]\n",
            "  [0.54509807]\n",
            "  [0.46666667]\n",
            "  [0.60784316]\n",
            "  [0.67058825]\n",
            "  [0.6745098 ]\n",
            "  [0.65882355]\n",
            "  [0.64705884]\n",
            "  [0.64705884]\n",
            "  [0.6392157 ]\n",
            "  [0.63529414]\n",
            "  [0.627451  ]\n",
            "  [0.61960787]]\n",
            "\n",
            " [[0.69411767]\n",
            "  [0.69411767]\n",
            "  [0.69411767]\n",
            "  [0.69803923]\n",
            "  [0.69411767]\n",
            "  [0.69803923]\n",
            "  [0.69803923]\n",
            "  [0.69411767]\n",
            "  [0.67058825]\n",
            "  [0.62352943]\n",
            "  [0.654902  ]\n",
            "  [0.6784314 ]\n",
            "  [0.6156863 ]\n",
            "  [0.5568628 ]\n",
            "  [0.6392157 ]\n",
            "  [0.59607846]\n",
            "  [0.52156866]\n",
            "  [0.654902  ]\n",
            "  [0.69411767]\n",
            "  [0.67058825]\n",
            "  [0.6666667 ]\n",
            "  [0.6666667 ]\n",
            "  [0.65882355]\n",
            "  [0.654902  ]\n",
            "  [0.6509804 ]\n",
            "  [0.6431373 ]\n",
            "  [0.6313726 ]\n",
            "  [0.62352943]]\n",
            "\n",
            " [[0.69803923]\n",
            "  [0.69803923]\n",
            "  [0.7019608 ]\n",
            "  [0.7019608 ]\n",
            "  [0.7058824 ]\n",
            "  [0.69803923]\n",
            "  [0.6431373 ]\n",
            "  [0.5529412 ]\n",
            "  [0.5372549 ]\n",
            "  [0.5686275 ]\n",
            "  [0.5882353 ]\n",
            "  [0.5529412 ]\n",
            "  [0.5254902 ]\n",
            "  [0.5882353 ]\n",
            "  [0.6039216 ]\n",
            "  [0.5921569 ]\n",
            "  [0.69411767]\n",
            "  [0.70980394]\n",
            "  [0.6862745 ]\n",
            "  [0.6745098 ]\n",
            "  [0.6784314 ]\n",
            "  [0.6745098 ]\n",
            "  [0.6666667 ]\n",
            "  [0.654902  ]\n",
            "  [0.654902  ]\n",
            "  [0.64705884]\n",
            "  [0.6392157 ]\n",
            "  [0.6313726 ]]\n",
            "\n",
            " [[0.7058824 ]\n",
            "  [0.7019608 ]\n",
            "  [0.7058824 ]\n",
            "  [0.7137255 ]\n",
            "  [0.7058824 ]\n",
            "  [0.7058824 ]\n",
            "  [0.6666667 ]\n",
            "  [0.6117647 ]\n",
            "  [0.5921569 ]\n",
            "  [0.5803922 ]\n",
            "  [0.5921569 ]\n",
            "  [0.6039216 ]\n",
            "  [0.6       ]\n",
            "  [0.6       ]\n",
            "  [0.5803922 ]\n",
            "  [0.6       ]\n",
            "  [0.5764706 ]\n",
            "  [0.54901963]\n",
            "  [0.67058825]\n",
            "  [0.6901961 ]\n",
            "  [0.6784314 ]\n",
            "  [0.6784314 ]\n",
            "  [0.67058825]\n",
            "  [0.6666667 ]\n",
            "  [0.65882355]\n",
            "  [0.654902  ]\n",
            "  [0.64705884]\n",
            "  [0.6392157 ]]\n",
            "\n",
            " [[0.7137255 ]\n",
            "  [0.70980394]\n",
            "  [0.70980394]\n",
            "  [0.7137255 ]\n",
            "  [0.7019608 ]\n",
            "  [0.6431373 ]\n",
            "  [0.58431375]\n",
            "  [0.6117647 ]\n",
            "  [0.62352943]\n",
            "  [0.6       ]\n",
            "  [0.6       ]\n",
            "  [0.6509804 ]\n",
            "  [0.6784314 ]\n",
            "  [0.6627451 ]\n",
            "  [0.6627451 ]\n",
            "  [0.6392157 ]\n",
            "  [0.5921569 ]\n",
            "  [0.4117647 ]\n",
            "  [0.5529412 ]\n",
            "  [0.7137255 ]\n",
            "  [0.68235296]\n",
            "  [0.6862745 ]\n",
            "  [0.6784314 ]\n",
            "  [0.67058825]\n",
            "  [0.67058825]\n",
            "  [0.65882355]\n",
            "  [0.6509804 ]\n",
            "  [0.64705884]]\n",
            "\n",
            " [[0.7176471 ]\n",
            "  [0.7176471 ]\n",
            "  [0.7176471 ]\n",
            "  [0.7137255 ]\n",
            "  [0.67058825]\n",
            "  [0.62352943]\n",
            "  [0.50980395]\n",
            "  [0.49019608]\n",
            "  [0.5294118 ]\n",
            "  [0.5254902 ]\n",
            "  [0.50980395]\n",
            "  [0.5372549 ]\n",
            "  [0.57254905]\n",
            "  [0.5764706 ]\n",
            "  [0.6431373 ]\n",
            "  [0.64705884]\n",
            "  [0.5764706 ]\n",
            "  [0.40392157]\n",
            "  [0.5921569 ]\n",
            "  [0.7137255 ]\n",
            "  [0.6901961 ]\n",
            "  [0.6901961 ]\n",
            "  [0.6862745 ]\n",
            "  [0.6784314 ]\n",
            "  [0.6745098 ]\n",
            "  [0.6666667 ]\n",
            "  [0.654902  ]\n",
            "  [0.6509804 ]]\n",
            "\n",
            " [[0.72156864]\n",
            "  [0.7254902 ]\n",
            "  [0.7254902 ]\n",
            "  [0.6901961 ]\n",
            "  [0.68235296]\n",
            "  [0.6392157 ]\n",
            "  [0.5764706 ]\n",
            "  [0.5686275 ]\n",
            "  [0.5568628 ]\n",
            "  [0.5529412 ]\n",
            "  [0.5529412 ]\n",
            "  [0.52156866]\n",
            "  [0.49019608]\n",
            "  [0.49019608]\n",
            "  [0.5294118 ]\n",
            "  [0.5294118 ]\n",
            "  [0.4392157 ]\n",
            "  [0.4117647 ]\n",
            "  [0.70980394]\n",
            "  [0.7019608 ]\n",
            "  [0.6901961 ]\n",
            "  [0.69411767]\n",
            "  [0.6862745 ]\n",
            "  [0.68235296]\n",
            "  [0.6784314 ]\n",
            "  [0.67058825]\n",
            "  [0.6627451 ]\n",
            "  [0.6509804 ]]\n",
            "\n",
            " [[0.7254902 ]\n",
            "  [0.7294118 ]\n",
            "  [0.7137255 ]\n",
            "  [0.6666667 ]\n",
            "  [0.6313726 ]\n",
            "  [0.5176471 ]\n",
            "  [0.49019608]\n",
            "  [0.5254902 ]\n",
            "  [0.50980395]\n",
            "  [0.5647059 ]\n",
            "  [0.6156863 ]\n",
            "  [0.62352943]\n",
            "  [0.59607846]\n",
            "  [0.5529412 ]\n",
            "  [0.5176471 ]\n",
            "  [0.4745098 ]\n",
            "  [0.28235295]\n",
            "  [0.5568628 ]\n",
            "  [0.6901961 ]\n",
            "  [0.6862745 ]\n",
            "  [0.7137255 ]\n",
            "  [0.69411767]\n",
            "  [0.69411767]\n",
            "  [0.69411767]\n",
            "  [0.6862745 ]\n",
            "  [0.6745098 ]\n",
            "  [0.6627451 ]\n",
            "  [0.65882355]]\n",
            "\n",
            " [[0.7294118 ]\n",
            "  [0.7294118 ]\n",
            "  [0.6784314 ]\n",
            "  [0.65882355]\n",
            "  [0.62352943]\n",
            "  [0.5019608 ]\n",
            "  [0.4509804 ]\n",
            "  [0.46666667]\n",
            "  [0.42745098]\n",
            "  [0.43529412]\n",
            "  [0.54901963]\n",
            "  [0.6039216 ]\n",
            "  [0.6117647 ]\n",
            "  [0.6       ]\n",
            "  [0.54901963]\n",
            "  [0.4627451 ]\n",
            "  [0.2509804 ]\n",
            "  [0.2627451 ]\n",
            "  [0.4745098 ]\n",
            "  [0.5803922 ]\n",
            "  [0.627451  ]\n",
            "  [0.70980394]\n",
            "  [0.69411767]\n",
            "  [0.69411767]\n",
            "  [0.6901961 ]\n",
            "  [0.6784314 ]\n",
            "  [0.6627451 ]\n",
            "  [0.69411767]]\n",
            "\n",
            " [[0.7411765 ]\n",
            "  [0.69803923]\n",
            "  [0.64705884]\n",
            "  [0.6784314 ]\n",
            "  [0.6392157 ]\n",
            "  [0.5411765 ]\n",
            "  [0.5019608 ]\n",
            "  [0.5019608 ]\n",
            "  [0.4862745 ]\n",
            "  [0.45882353]\n",
            "  [0.43529412]\n",
            "  [0.41568628]\n",
            "  [0.4627451 ]\n",
            "  [0.54509807]\n",
            "  [0.52156866]\n",
            "  [0.3647059 ]\n",
            "  [0.15686275]\n",
            "  [0.20784314]\n",
            "  [0.42745098]\n",
            "  [0.57254905]\n",
            "  [0.46666667]\n",
            "  [0.68235296]\n",
            "  [0.7019608 ]\n",
            "  [0.6901961 ]\n",
            "  [0.6862745 ]\n",
            "  [0.68235296]\n",
            "  [0.69411767]\n",
            "  [0.65882355]]\n",
            "\n",
            " [[0.7294118 ]\n",
            "  [0.65882355]\n",
            "  [0.6627451 ]\n",
            "  [0.6627451 ]\n",
            "  [0.60784316]\n",
            "  [0.5921569 ]\n",
            "  [0.5686275 ]\n",
            "  [0.54509807]\n",
            "  [0.5294118 ]\n",
            "  [0.50980395]\n",
            "  [0.4745098 ]\n",
            "  [0.4392157 ]\n",
            "  [0.40784314]\n",
            "  [0.37254903]\n",
            "  [0.39607844]\n",
            "  [0.23921569]\n",
            "  [0.15294118]\n",
            "  [0.2784314 ]\n",
            "  [0.3882353 ]\n",
            "  [0.44705883]\n",
            "  [0.40392157]\n",
            "  [0.69411767]\n",
            "  [0.7058824 ]\n",
            "  [0.69803923]\n",
            "  [0.69803923]\n",
            "  [0.6901961 ]\n",
            "  [0.50980395]\n",
            "  [0.67058825]]\n",
            "\n",
            " [[0.65882355]\n",
            "  [0.6509804 ]\n",
            "  [0.6392157 ]\n",
            "  [0.6392157 ]\n",
            "  [0.61960787]\n",
            "  [0.58431375]\n",
            "  [0.54509807]\n",
            "  [0.5372549 ]\n",
            "  [0.5411765 ]\n",
            "  [0.5176471 ]\n",
            "  [0.47843137]\n",
            "  [0.45490196]\n",
            "  [0.41960785]\n",
            "  [0.28235295]\n",
            "  [0.25882354]\n",
            "  [0.22352941]\n",
            "  [0.21568628]\n",
            "  [0.24705882]\n",
            "  [0.3019608 ]\n",
            "  [0.37254903]\n",
            "  [0.60784316]\n",
            "  [0.7411765 ]\n",
            "  [0.7294118 ]\n",
            "  [0.69411767]\n",
            "  [0.61960787]\n",
            "  [0.4509804 ]\n",
            "  [0.3372549 ]\n",
            "  [0.62352943]]\n",
            "\n",
            " [[0.63529414]\n",
            "  [0.63529414]\n",
            "  [0.62352943]\n",
            "  [0.65882355]\n",
            "  [0.6666667 ]\n",
            "  [0.5294118 ]\n",
            "  [0.41568628]\n",
            "  [0.38039216]\n",
            "  [0.32156864]\n",
            "  [0.3254902 ]\n",
            "  [0.40392157]\n",
            "  [0.43529412]\n",
            "  [0.34117648]\n",
            "  [0.26666668]\n",
            "  [0.25490198]\n",
            "  [0.21176471]\n",
            "  [0.34901962]\n",
            "  [0.5647059 ]\n",
            "  [0.60784316]\n",
            "  [0.6784314 ]\n",
            "  [0.7137255 ]\n",
            "  [0.6156863 ]\n",
            "  [0.64705884]\n",
            "  [0.5764706 ]\n",
            "  [0.42745098]\n",
            "  [0.5254902 ]\n",
            "  [0.6       ]\n",
            "  [0.5686275 ]]\n",
            "\n",
            " [[0.64705884]\n",
            "  [0.6117647 ]\n",
            "  [0.63529414]\n",
            "  [0.6627451 ]\n",
            "  [0.5921569 ]\n",
            "  [0.39607844]\n",
            "  [0.28627452]\n",
            "  [0.21568628]\n",
            "  [0.21176471]\n",
            "  [0.25490198]\n",
            "  [0.36862746]\n",
            "  [0.38431373]\n",
            "  [0.2784314 ]\n",
            "  [0.2509804 ]\n",
            "  [0.20784314]\n",
            "  [0.44705883]\n",
            "  [0.7411765 ]\n",
            "  [0.7176471 ]\n",
            "  [0.69411767]\n",
            "  [0.62352943]\n",
            "  [0.5764706 ]\n",
            "  [0.5568628 ]\n",
            "  [0.58431375]\n",
            "  [0.49411765]\n",
            "  [0.627451  ]\n",
            "  [0.6745098 ]\n",
            "  [0.50980395]\n",
            "  [0.36078432]]\n",
            "\n",
            " [[0.6431373 ]\n",
            "  [0.6627451 ]\n",
            "  [0.67058825]\n",
            "  [0.60784316]\n",
            "  [0.44705883]\n",
            "  [0.32156864]\n",
            "  [0.27058825]\n",
            "  [0.20392157]\n",
            "  [0.24313726]\n",
            "  [0.29411766]\n",
            "  [0.35686275]\n",
            "  [0.32156864]\n",
            "  [0.27058825]\n",
            "  [0.24313726]\n",
            "  [0.54509807]\n",
            "  [0.7490196 ]\n",
            "  [0.6039216 ]\n",
            "  [0.47058824]\n",
            "  [0.4627451 ]\n",
            "  [0.5372549 ]\n",
            "  [0.5764706 ]\n",
            "  [0.6392157 ]\n",
            "  [0.5686275 ]\n",
            "  [0.62352943]\n",
            "  [0.7058824 ]\n",
            "  [0.49411765]\n",
            "  [0.34117648]\n",
            "  [0.34509805]]\n",
            "\n",
            " [[0.63529414]\n",
            "  [0.6666667 ]\n",
            "  [0.63529414]\n",
            "  [0.5294118 ]\n",
            "  [0.38431373]\n",
            "  [0.30980393]\n",
            "  [0.25882354]\n",
            "  [0.22745098]\n",
            "  [0.2627451 ]\n",
            "  [0.26666668]\n",
            "  [0.25882354]\n",
            "  [0.2509804 ]\n",
            "  [0.30980393]\n",
            "  [0.57254905]\n",
            "  [0.7411765 ]\n",
            "  [0.5803922 ]\n",
            "  [0.5176471 ]\n",
            "  [0.53333336]\n",
            "  [0.52156866]\n",
            "  [0.5647059 ]\n",
            "  [0.6039216 ]\n",
            "  [0.72156864]\n",
            "  [0.54509807]\n",
            "  [0.50980395]\n",
            "  [0.4745098 ]\n",
            "  [0.3647059 ]\n",
            "  [0.4       ]\n",
            "  [0.39215687]]\n",
            "\n",
            " [[0.63529414]\n",
            "  [0.62352943]\n",
            "  [0.5686275 ]\n",
            "  [0.4392157 ]\n",
            "  [0.33333334]\n",
            "  [0.29411766]\n",
            "  [0.26666668]\n",
            "  [0.25490198]\n",
            "  [0.2509804 ]\n",
            "  [0.24313726]\n",
            "  [0.30980393]\n",
            "  [0.48235294]\n",
            "  [0.7529412 ]\n",
            "  [0.7764706 ]\n",
            "  [0.7176471 ]\n",
            "  [0.49411765]\n",
            "  [0.31764707]\n",
            "  [0.48235294]\n",
            "  [0.5372549 ]\n",
            "  [0.5058824 ]\n",
            "  [0.6039216 ]\n",
            "  [0.8509804 ]\n",
            "  [0.52156866]\n",
            "  [0.34117648]\n",
            "  [0.34117648]\n",
            "  [0.35686275]\n",
            "  [0.39607844]\n",
            "  [0.36862746]]\n",
            "\n",
            " [[0.6       ]\n",
            "  [0.54509807]\n",
            "  [0.4509804 ]\n",
            "  [0.34901962]\n",
            "  [0.3019608 ]\n",
            "  [0.28235295]\n",
            "  [0.25490198]\n",
            "  [0.3019608 ]\n",
            "  [0.41568628]\n",
            "  [0.5372549 ]\n",
            "  [0.68235296]\n",
            "  [0.7254902 ]\n",
            "  [0.57254905]\n",
            "  [0.4745098 ]\n",
            "  [0.43529412]\n",
            "  [0.4392157 ]\n",
            "  [0.39215687]\n",
            "  [0.30588236]\n",
            "  [0.47058824]\n",
            "  [0.6156863 ]\n",
            "  [0.65882355]\n",
            "  [0.41960785]\n",
            "  [0.3882353 ]\n",
            "  [0.4745098 ]\n",
            "  [0.52156866]\n",
            "  [0.38039216]\n",
            "  [0.37254903]\n",
            "  [0.47058824]]\n",
            "\n",
            " [[0.5294118 ]\n",
            "  [0.45490196]\n",
            "  [0.37254903]\n",
            "  [0.30980393]\n",
            "  [0.27058825]\n",
            "  [0.3372549 ]\n",
            "  [0.54509807]\n",
            "  [0.6784314 ]\n",
            "  [0.78431374]\n",
            "  [0.7254902 ]\n",
            "  [0.6862745 ]\n",
            "  [0.7764706 ]\n",
            "  [0.4862745 ]\n",
            "  [0.4627451 ]\n",
            "  [0.36862746]\n",
            "  [0.54901963]\n",
            "  [0.52156866]\n",
            "  [0.32941177]\n",
            "  [0.27058825]\n",
            "  [0.58431375]\n",
            "  [0.5019608 ]\n",
            "  [0.34117648]\n",
            "  [0.36862746]\n",
            "  [0.6392157 ]\n",
            "  [0.6862745 ]\n",
            "  [0.40392157]\n",
            "  [0.5294118 ]\n",
            "  [0.58431375]]]\n"
          ],
          "name": "stdout"
        }
      ]
    },
    {
      "cell_type": "markdown",
      "metadata": {
        "id": "WQ6ok1F3n7Ux"
      },
      "source": [
        "모델은 다음과 같이 구성하였습니다.\n",
        "\n",
        "* 입력: 1차원의 784개 벡터\n",
        "* 출력: 10개 벡터\n",
        "* 출력층의 활성화 함수: 소프트맥스\n",
        "* 손실함수: categorical_crossentropy\n",
        "* 최적화기: adam\n",
        "* 평가 메트릭: accuracy\n"
      ]
    },
    {
      "cell_type": "code",
      "metadata": {
        "id": "CfRck8LMt3qk",
        "colab": {
          "base_uri": "https://localhost:8080/"
        },
        "outputId": "9cbf69bf-2976-435e-e9be-399f4d703278"
      },
      "source": [
        "x_train.shape"
      ],
      "execution_count": 8,
      "outputs": [
        {
          "output_type": "execute_result",
          "data": {
            "text/plain": [
              "(27455, 28, 28)"
            ]
          },
          "metadata": {
            "tags": []
          },
          "execution_count": 8
        }
      ]
    },
    {
      "cell_type": "code",
      "metadata": {
        "id": "_SXTk3Twv9Qc"
      },
      "source": [
        "model = Sequential([\n",
        "    Conv2D(64, (3,3), padding='same', input_shape=(28,28,1), activation='relu'),\n",
        "    Conv2D(64, (3,3), padding='same', activation='relu'),\n",
        "    MaxPooling2D(pool_size=(2,2)),\n",
        "    Conv2D(32, (4,4), padding='same', activation='relu'),\n",
        "    Conv2D(32, (4,4), padding='same', activation='relu'),\n",
        "    MaxPooling2D(pool_size=(2,2)),\n",
        "    Flatten(),\n",
        "    Dense(1024, activation='relu'),\n",
        "    Dense(512, activation='relu'),\n",
        "    Dense(25, activation='softmax')\n",
        "])\n",
        "\n",
        "model.compile(loss='categorical_crossentropy', optimizer='adam', metrics=['accuracy'])"
      ],
      "execution_count": 31,
      "outputs": []
    },
    {
      "cell_type": "markdown",
      "metadata": {
        "id": "7C7XabvDn7Ux"
      },
      "source": [
        "모델 네트워크 아키텍처 구성을 그려보겠습니다."
      ]
    },
    {
      "cell_type": "code",
      "metadata": {
        "colab": {
          "base_uri": "https://localhost:8080/",
          "height": 1000
        },
        "id": "xFLTw6eln7Ux",
        "outputId": "67b34ef8-e19a-41c2-aa3c-4792e9f7b4cf"
      },
      "source": [
        "plot_model(model, show_shapes=True)"
      ],
      "execution_count": 32,
      "outputs": [
        {
          "output_type": "execute_result",
          "data": {
            "image/png": "[encoded data removed]",
            "text/plain": [
              "<IPython.core.display.Image object>"
            ]
          },
          "metadata": {
            "tags": []
          },
          "execution_count": 32
        }
      ]
    },
    {
      "cell_type": "markdown",
      "metadata": {
        "id": "iH75hSGrn7Ux"
      },
      "source": [
        "모델을 학습시킬 때, validation_split 옵션을 두면 훈련셋 일부를 검증셋으로 설정할 수 있습니다. 0.2로 설정할 경우, 전체 훈련셋에서 20%를 검증셋, 나머지를 훈련셋으로 구성하여 학습합니다."
      ]
    },
    {
      "cell_type": "markdown",
      "metadata": {
        "id": "FT4_DoFRUznI"
      },
      "source": [
        "학습 시 매 에포크에 해당하는 훈련셋과 검증셋에 대한 손실값과 평가 메트릭 수치를 확인할 수 있습니다. 이를 시각화시키면 오버피팅 여부를 한 눈에 확인할 수 있습니다."
      ]
    },
    {
      "cell_type": "markdown",
      "metadata": {
        "id": "jCAQ09u9W09V"
      },
      "source": [
        "오버피팅이 10 에포크 이전에 발생했더라도 100 에포크까지 학습을 시켰으므로 현재 모델은 오버피팅이 되어 있는 상태입니다. 오버피팅이 되지 않은 모델을 확보하기 위해는 아래 세 가지 방법을 사용할 수 있습니다. \n",
        "\n",
        "1. 오버피팅이 되는 에포크를 확인하였다면, 오버피팅 전의 에포크 만큼 모델을 학습시킵니다.\n",
        "2. 콜백함수를 사용하여, 오버피팅이 감지되면 조기 중단을 시키도록 합니다.\n",
        "3. 콜백함수를 사용하여, 매 에포크마다 검증셋의 손실값을 체크한 후, 이전 손실값보다 낮은 경우 모델을 파일로 저장합니다. 즉 학습 종료가 되면, 파일에 저장된 모델은 손실값이 가장 낮을 때의 가중치를 가지고 있습니다.\n",
        "\n",
        "1번 방법은 두 번 학습을 시켜야하고, 2번 방법은 더 학습이 가능했음에도 설정된 오버피팅 감지 조건에 의해 조기 중단이 될 수도 있으므로, 이후 실습에서는 주로 3번 방법을 사용하도록 하겠습니다.\n",
        "\n",
        "모델 정의부터 컴파일, 콜백함수 정의, 모델 학습까지의 코드는 아래와 같습니다. 다음부터는 두 번 학습할 필요없이 아래 코드로 한 번만 수행합니다."
      ]
    },
    {
      "cell_type": "code",
      "metadata": {
        "colab": {
          "base_uri": "https://localhost:8080/"
        },
        "id": "upKgRxiNT5MQ",
        "outputId": "9ef9d9a7-4d92-4bda-f23b-29026a28ff50"
      },
      "source": [
        "\n",
        "\n",
        "checkpoint_callback = ModelCheckpoint(\"best_model.h5\", \n",
        "                                      save_best_only=True, \n",
        "                                      monitor=\"val_loss\")\n",
        "\n",
        "hist = model.fit(x_train_in, y_train_in, \n",
        "                 validation_split=0.2, \n",
        "                 batch_size=16,\n",
        "                 epochs=50,  \n",
        "                 callbacks=[checkpoint_callback])"
      ],
      "execution_count": 38,
      "outputs": [
        {
          "output_type": "stream",
          "text": [
            "Epoch 1/50\n",
            "1373/1373 [==============================] - 15s 11ms/step - loss: 1.2711e-08 - accuracy: 1.0000 - val_loss: 5.2347e-07 - val_accuracy: 1.0000\n",
            "Epoch 2/50\n",
            "1373/1373 [==============================] - 14s 10ms/step - loss: 6.4261e-09 - accuracy: 1.0000 - val_loss: 2.6668e-07 - val_accuracy: 1.0000\n",
            "Epoch 3/50\n",
            "1373/1373 [==============================] - 14s 10ms/step - loss: 3.3053e-09 - accuracy: 1.0000 - val_loss: 2.0149e-07 - val_accuracy: 1.0000\n",
            "Epoch 4/50\n",
            "1373/1373 [==============================] - 14s 10ms/step - loss: 1.6771e-09 - accuracy: 1.0000 - val_loss: 8.0686e-08 - val_accuracy: 1.0000\n",
            "Epoch 5/50\n",
            "1373/1373 [==============================] - 14s 10ms/step - loss: 9.0639e-10 - accuracy: 1.0000 - val_loss: 6.3149e-08 - val_accuracy: 1.0000\n",
            "Epoch 6/50\n",
            "1373/1373 [==============================] - 14s 10ms/step - loss: 4.4505e-10 - accuracy: 1.0000 - val_loss: 3.9033e-08 - val_accuracy: 1.0000\n",
            "Epoch 7/50\n",
            "1373/1373 [==============================] - 14s 10ms/step - loss: 2.5509e-10 - accuracy: 1.0000 - val_loss: 3.8142e-08 - val_accuracy: 1.0000\n",
            "Epoch 8/50\n",
            "1373/1373 [==============================] - 14s 10ms/step - loss: 1.4654e-10 - accuracy: 1.0000 - val_loss: 4.3114e-08 - val_accuracy: 1.0000\n",
            "Epoch 9/50\n",
            "1373/1373 [==============================] - 14s 10ms/step - loss: 8.1412e-11 - accuracy: 1.0000 - val_loss: 8.8110e-08 - val_accuracy: 1.0000\n",
            "Epoch 10/50\n",
            "1373/1373 [==============================] - 14s 10ms/step - loss: 1.0855e-10 - accuracy: 1.0000 - val_loss: 1.5164e-07 - val_accuracy: 1.0000\n",
            "Epoch 11/50\n",
            "1373/1373 [==============================] - 14s 10ms/step - loss: 4.8847e-11 - accuracy: 1.0000 - val_loss: 5.3204e-08 - val_accuracy: 1.0000\n",
            "Epoch 12/50\n",
            "1373/1373 [==============================] - 14s 10ms/step - loss: 1.0855e-11 - accuracy: 1.0000 - val_loss: 2.0672e-07 - val_accuracy: 1.0000\n",
            "Epoch 13/50\n",
            "1373/1373 [==============================] - 14s 10ms/step - loss: 1.0855e-11 - accuracy: 1.0000 - val_loss: 1.4743e-07 - val_accuracy: 1.0000\n",
            "Epoch 14/50\n",
            "1373/1373 [==============================] - 14s 10ms/step - loss: 2.1710e-11 - accuracy: 1.0000 - val_loss: 6.1069e-07 - val_accuracy: 1.0000\n",
            "Epoch 15/50\n",
            "1373/1373 [==============================] - 14s 10ms/step - loss: 1.0855e-11 - accuracy: 1.0000 - val_loss: 3.8252e-07 - val_accuracy: 1.0000\n",
            "Epoch 16/50\n",
            "1373/1373 [==============================] - 14s 10ms/step - loss: 0.0490 - accuracy: 0.9874 - val_loss: 0.0139 - val_accuracy: 0.9953\n",
            "Epoch 17/50\n",
            "1373/1373 [==============================] - 14s 10ms/step - loss: 0.0152 - accuracy: 0.9964 - val_loss: 0.0061 - val_accuracy: 0.9975\n",
            "Epoch 18/50\n",
            "1373/1373 [==============================] - 14s 10ms/step - loss: 0.0024 - accuracy: 0.9993 - val_loss: 5.9647e-06 - val_accuracy: 1.0000\n",
            "Epoch 19/50\n",
            "1373/1373 [==============================] - 14s 10ms/step - loss: 2.7766e-06 - accuracy: 1.0000 - val_loss: 1.4965e-06 - val_accuracy: 1.0000\n",
            "Epoch 20/50\n",
            "1373/1373 [==============================] - 14s 10ms/step - loss: 6.4234e-07 - accuracy: 1.0000 - val_loss: 9.2078e-07 - val_accuracy: 1.0000\n",
            "Epoch 21/50\n",
            "1373/1373 [==============================] - 14s 10ms/step - loss: 2.4824e-07 - accuracy: 1.0000 - val_loss: 7.2205e-07 - val_accuracy: 1.0000\n",
            "Epoch 22/50\n",
            "1373/1373 [==============================] - 14s 10ms/step - loss: 1.2440e-07 - accuracy: 1.0000 - val_loss: 4.5493e-07 - val_accuracy: 1.0000\n",
            "Epoch 23/50\n",
            "1373/1373 [==============================] - 14s 10ms/step - loss: 6.6844e-08 - accuracy: 1.0000 - val_loss: 5.0876e-07 - val_accuracy: 1.0000\n",
            "Epoch 24/50\n",
            "1373/1373 [==============================] - 14s 10ms/step - loss: 4.0250e-08 - accuracy: 1.0000 - val_loss: 3.7629e-07 - val_accuracy: 1.0000\n",
            "Epoch 25/50\n",
            "1373/1373 [==============================] - 14s 10ms/step - loss: 2.1905e-08 - accuracy: 1.0000 - val_loss: 2.9129e-07 - val_accuracy: 1.0000\n",
            "Epoch 26/50\n",
            "1373/1373 [==============================] - 14s 10ms/step - loss: 1.3156e-08 - accuracy: 1.0000 - val_loss: 1.9237e-07 - val_accuracy: 1.0000\n",
            "Epoch 27/50\n",
            "1373/1373 [==============================] - 14s 10ms/step - loss: 7.8101e-09 - accuracy: 1.0000 - val_loss: 1.7537e-07 - val_accuracy: 1.0000\n",
            "Epoch 28/50\n",
            "1373/1373 [==============================] - 14s 10ms/step - loss: 4.2769e-09 - accuracy: 1.0000 - val_loss: 1.0877e-07 - val_accuracy: 1.0000\n",
            "Epoch 29/50\n",
            "1373/1373 [==============================] - 14s 10ms/step - loss: 2.2198e-09 - accuracy: 1.0000 - val_loss: 1.0185e-07 - val_accuracy: 1.0000\n",
            "Epoch 30/50\n",
            "1373/1373 [==============================] - 14s 10ms/step - loss: 1.2483e-09 - accuracy: 1.0000 - val_loss: 7.8971e-08 - val_accuracy: 1.0000\n",
            "Epoch 31/50\n",
            "1373/1373 [==============================] - 14s 10ms/step - loss: 6.0788e-10 - accuracy: 1.0000 - val_loss: 6.2781e-08 - val_accuracy: 1.0000\n",
            "Epoch 32/50\n",
            "1373/1373 [==============================] - 14s 10ms/step - loss: 3.0937e-10 - accuracy: 1.0000 - val_loss: 4.0053e-08 - val_accuracy: 1.0000\n",
            "Epoch 33/50\n",
            "1373/1373 [==============================] - 14s 10ms/step - loss: 1.3569e-10 - accuracy: 1.0000 - val_loss: 3.1044e-08 - val_accuracy: 1.0000\n",
            "Epoch 34/50\n",
            "1373/1373 [==============================] - 14s 10ms/step - loss: 6.5130e-11 - accuracy: 1.0000 - val_loss: 2.5487e-08 - val_accuracy: 1.0000\n",
            "Epoch 35/50\n",
            "1373/1373 [==============================] - 14s 10ms/step - loss: 2.7137e-11 - accuracy: 1.0000 - val_loss: 6.0020e-08 - val_accuracy: 1.0000\n",
            "Epoch 36/50\n",
            "1373/1373 [==============================] - 14s 10ms/step - loss: 3.7992e-11 - accuracy: 1.0000 - val_loss: 6.8700e-08 - val_accuracy: 1.0000\n",
            "Epoch 37/50\n",
            "1373/1373 [==============================] - 14s 10ms/step - loss: 1.6282e-11 - accuracy: 1.0000 - val_loss: 1.0705e-07 - val_accuracy: 1.0000\n",
            "Epoch 38/50\n",
            "1373/1373 [==============================] - 14s 10ms/step - loss: 4.3420e-11 - accuracy: 1.0000 - val_loss: 3.3433e-09 - val_accuracy: 1.0000\n",
            "Epoch 39/50\n",
            "1373/1373 [==============================] - 14s 10ms/step - loss: 0.0000e+00 - accuracy: 1.0000 - val_loss: 3.6969e-08 - val_accuracy: 1.0000\n",
            "Epoch 40/50\n",
            "1373/1373 [==============================] - 14s 10ms/step - loss: 1.0855e-11 - accuracy: 1.0000 - val_loss: 3.2562e-08 - val_accuracy: 1.0000\n",
            "Epoch 41/50\n",
            "1373/1373 [==============================] - 14s 10ms/step - loss: 0.0327 - accuracy: 0.9930 - val_loss: 0.0185 - val_accuracy: 0.9971\n",
            "Epoch 42/50\n",
            "1373/1373 [==============================] - 14s 10ms/step - loss: 0.0046 - accuracy: 0.9990 - val_loss: 2.9380e-05 - val_accuracy: 1.0000\n",
            "Epoch 43/50\n",
            "1373/1373 [==============================] - 14s 10ms/step - loss: 2.4752e-06 - accuracy: 1.0000 - val_loss: 1.4155e-05 - val_accuracy: 1.0000\n",
            "Epoch 44/50\n",
            "1373/1373 [==============================] - 14s 10ms/step - loss: 8.8405e-07 - accuracy: 1.0000 - val_loss: 1.2048e-05 - val_accuracy: 1.0000\n",
            "Epoch 45/50\n",
            "1373/1373 [==============================] - 14s 10ms/step - loss: 4.0086e-07 - accuracy: 1.0000 - val_loss: 1.8168e-05 - val_accuracy: 1.0000\n",
            "Epoch 46/50\n",
            "1373/1373 [==============================] - 14s 10ms/step - loss: 1.9630e-07 - accuracy: 1.0000 - val_loss: 1.2598e-05 - val_accuracy: 1.0000\n",
            "Epoch 47/50\n",
            "1373/1373 [==============================] - 14s 10ms/step - loss: 1.0048e-07 - accuracy: 1.0000 - val_loss: 1.1089e-05 - val_accuracy: 1.0000\n",
            "Epoch 48/50\n",
            "1373/1373 [==============================] - 14s 10ms/step - loss: 5.2847e-08 - accuracy: 1.0000 - val_loss: 6.1133e-06 - val_accuracy: 1.0000\n",
            "Epoch 49/50\n",
            "1373/1373 [==============================] - 14s 10ms/step - loss: 2.8201e-08 - accuracy: 1.0000 - val_loss: 4.5275e-06 - val_accuracy: 1.0000\n",
            "Epoch 50/50\n",
            "1373/1373 [==============================] - 14s 10ms/step - loss: 1.6570e-08 - accuracy: 1.0000 - val_loss: 3.8242e-06 - val_accuracy: 1.0000\n"
          ],
          "name": "stdout"
        }
      ]
    },
    {
      "cell_type": "code",
      "metadata": {
        "colab": {
          "base_uri": "https://localhost:8080/",
          "height": 279
        },
        "id": "ceNs9lckwfbd",
        "outputId": "e52b183d-9ddd-402c-aa8f-443686250162"
      },
      "source": [
        "fig, loss_ax = plt.subplots()\n",
        "\n",
        "acc_ax = loss_ax.twinx()\n",
        "\n",
        "loss_ax.plot(hist.history['loss'], 'y', label='train loss')\n",
        "loss_ax.plot(hist.history['val_loss'], 'r', label='val loss')\n",
        "\n",
        "acc_ax.plot(hist.history['accuracy'], 'b', label='train acc')\n",
        "acc_ax.plot(hist.history['val_accuracy'], 'g', label='val acc')\n",
        "\n",
        "loss_ax.set_xlabel('epoch')\n",
        "loss_ax.set_ylabel('loss')\n",
        "acc_ax.set_ylabel('accuray')\n",
        "\n",
        "loss_ax.legend(loc='upper left')\n",
        "acc_ax.legend(loc='lower left')\n",
        "\n",
        "plt.show()"
      ],
      "execution_count": 40,
      "outputs": [
        {
          "output_type": "display_data",
          "data": {
            "image/png": "[encoded data removed]",
            "text/plain": [
              "<Figure size 432x288 with 2 Axes>"
            ]
          },
          "metadata": {
            "tags": [],
            "needs_background": "light"
          }
        }
      ]
    },
    {
      "cell_type": "markdown",
      "metadata": {
        "id": "E2pcI4oMn7Ux"
      },
      "source": [
        "이로서 현재 학습 과정 중 가장 낮은 검증셋의 손실값을 가진 모델이 \"best_model.h5\" 파일로 저장되었습니다."
      ]
    },
    {
      "cell_type": "markdown",
      "metadata": {
        "id": "2FGSGDMLn7Ux"
      },
      "source": [
        "파일로 저장된 모델을 로딩하여 시험셋으로 최종 평가를 수행합니다."
      ]
    },
    {
      "cell_type": "code",
      "metadata": {
        "colab": {
          "base_uri": "https://localhost:8080/"
        },
        "id": "7dR4v-GuwCuG",
        "outputId": "995d7851-4e94-4f1d-b76a-6c3bab0b6426"
      },
      "source": [
        "model = load_model(\"best_model.h5\")\n",
        "\n",
        "test_loss, test_acc = model.evaluate(x_test_in, y_test_in)\n",
        "\n",
        "print(\"Test accuracy\", test_acc)\n",
        "print(\"Test loss\", test_loss)"
      ],
      "execution_count": 41,
      "outputs": [
        {
          "output_type": "stream",
          "text": [
            "225/225 [==============================] - 2s 7ms/step - loss: 0.3119 - accuracy: 0.9617\n",
            "Test accuracy 0.9616564512252808\n",
            "Test loss 0.311914324760437\n"
          ],
          "name": "stdout"
        }
      ]
    },
    {
      "cell_type": "markdown",
      "metadata": {
        "id": "gPwlKPzqZmOu"
      },
      "source": [
        "또한 시험셋으로 테스트한 결과를 제출하기 위해 모델 결과 파일을 저장합니다. 출력이 10개 클래스에 해당하는 벡터이므로, 분류한 클래스 정보를 얻기 위해 가장 높은 값을 가진 인덱스 값을 가지고 옵니다. 이 인덱스가 클래스를 의미하며, 이 값을 파일로 저장합니다."
      ]
    },
    {
      "cell_type": "code",
      "metadata": {
        "id": "REvi-WpIZuKx"
      },
      "source": [
        "y_pred = model.predict(x_test_in)\n",
        "y_pred = y_pred.argmax(axis=-1)\n",
        "np.savetxt('y_pred.csv', y_pred, fmt='%d')"
      ],
      "execution_count": 43,
      "outputs": []
    }
  ]
}